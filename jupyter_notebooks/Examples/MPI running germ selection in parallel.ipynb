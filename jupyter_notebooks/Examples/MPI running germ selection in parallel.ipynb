{
 "cells": [
  {
   "cell_type": "markdown",
   "metadata": {
    "deletable": true,
    "editable": true
   },
   "source": [
    "# Running germ selection on multiple processors\n",
    "The code below should be put into a script and run using mpiexec.  It's primary function is to pass a MPI Comm object to `pygsti.algorithms.germselection.build_up_breadth`."
   ]
  },
  {
   "cell_type": "code",
   "execution_count": null,
   "metadata": {
    "collapsed": false,
    "deletable": true,
    "editable": true
   },
   "outputs": [],
   "source": [
    "from __future__ import print_function\n",
    "import time\n",
    "\n",
    "import pygsti\n",
    "import pygsti.construction as pc\n",
    "from pygsti.construction import std2Q_XYICNOT\n",
    "from pygsti.algorithms import germselection as germsel\n",
    "\n",
    "from mpi4py import MPI\n",
    "comm = MPI.COMM_WORLD\n",
    "\n",
    "def do_greedy_germsel(gs_target, forced_germs, candidate_counts,\n",
    "                      seedStart, outFilename, comm):\n",
    "    #candidate_counts is a dict of keys = germ lengths, values = # of germs at that length                                                            \n",
    "\n",
    "    tStart = time.time()\n",
    "\n",
    "    candidate_germs = []\n",
    "    for i,(germLength, count) in enumerate(candidate_counts.items()):\n",
    "        if count == \"all upto\":\n",
    "            candidate_germs.extend( pc.list_all_gatestrings_without_powers_and_cycles(\n",
    "                    gs_target.gates.keys(), maxLength=germLength) )\n",
    "        else:\n",
    "            candidate_germs.extend( pc.list_random_gatestrings_onelen(\n",
    "                    gs_target.gates.keys(), germLength, count, seed=seedStart+i))\n",
    "\n",
    "    available_germs = pygsti.tools.remove_duplicates( forced_germs + candidate_germs )\n",
    "    print(\"%d available germs\" % len(available_germs))\n",
    "    germs = germsel.build_up_breadth(gs_target, available_germs,\n",
    "                     randomizationStrength=1e-3, numCopies=3, seed=1234,\n",
    "                     gatePenalty=10.0, scoreFunc='all', tol=1e-6, threshold=1e5,\n",
    "                     pretest=False, force=forced_germs, verbosity=5, comm=comm, memLimit=0.5*(1024**3))\n",
    "\n",
    "    if comm is None or comm.Get_rank() == 0:\n",
    "        print(\"Germs (%d) = \\n\" % len(germs), \"\\n\".join(map(str,germs)))\n",
    "        print(\"Total time = %gs\" % (time.time()-tStart))\n",
    "        pickle.dump(germs,open(outFilename,\"wb\"))\n",
    "    return germs\n",
    "                                                                                                                                         \n",
    "#2Q case                                                                                                                                              \n",
    "gs_target = std2Q_XYICNOT.gs_target\n",
    "forced_germs = pygsti.construction.gatestring_list([(gl,) for gl in gs_target.gates.keys()]) #singletons                                                                                      \n",
    "candidate_counts = { 3:\"all upto\", 4:30, 5:20, 6:20, 7:20, 8:20} # germLength:num_candidates                                                          \n",
    "seedStart = 4\n",
    "do_greedy_germsel(gs_target, forced_germs, candidate_counts,\n",
    "                  seedStart, \"germs_EXAMPLE.pkl\", comm)"
   ]
  },
  {
   "cell_type": "code",
   "execution_count": null,
   "metadata": {
    "collapsed": true,
    "deletable": true,
    "editable": true
   },
   "outputs": [],
   "source": [
    "\n"
   ]
  }
 ],
 "metadata": {
  "kernelspec": {
   "display_name": "Python 3",
   "language": "python",
   "name": "python3"
  },
  "language_info": {
   "codemirror_mode": {
    "name": "ipython",
    "version": 3
   },
   "file_extension": ".py",
   "mimetype": "text/x-python",
   "name": "python",
   "nbconvert_exporter": "python",
   "pygments_lexer": "ipython3",
   "version": "3.5.2"
  }
 },
 "nbformat": 4,
 "nbformat_minor": 2
}
