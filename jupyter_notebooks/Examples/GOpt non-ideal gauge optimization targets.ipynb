{
 "cells": [
  {
   "cell_type": "markdown",
   "metadata": {
    "collapsed": true,
    "deletable": true,
    "editable": true
   },
   "source": [
    "# How to gauge-optimize to a gate set other than the ideal targets \n",
    "Typically gauge optimizations are performed with respect to the set of ideal target gates and spam operations.  This is convenient, since you need to specify the ideal targets as points of comparison, but not always the best approach.  Particularly when you expect all or some of the gate estimates to either substantially differ from the ideal operations or differ, even by small amounts, in particular ways from the ideal operations, it can be hugely aid later interpretation to specify a non-ideal `GateSet` as the target for gauge-optimization.  By separating the \"ideal targets\" from the \"gauge optimization targets\", you're able to tell the gauge optimizer what gates you *think* you have, including any known errors.  This can result in a gauge-optimized estimate which is much more sensible and straightforward to interpet.\n",
    "\n",
    "For example, gauge transformations can slosh error between the SPAM operations and the non-unital parts of gates.  If you know your gates are slightly non-unital you can include this information in the gauge-optimization-target (by specifying a `GateSet` which is slightly non-unital) and obtain a resulting estimate of low SPAM-error and slightly non-unital gates.  If you just used the ideal (unital) target gates, the gauge-optimizer, which is often setup to care more about matching gate than SPAM ops, could have sloshed all the error into the SPAM ops, resulting in a confusing estimate that indicates perfectly unital gates and horrible SPAM operations.\n",
    "\n",
    "This example demonstrates how to separately specify the gauge-optimization-target `GateSet`.  There are two places where you might want to do this: 1) when calling `pygsti.do_long_sequence_gst`, to direct the gauge-optimization it performs, or 2) when calling `estimate.add_gaugeoptimized` to add a gauge-optimized version of an estimate after the main GST algorithms have been run.  \n",
    "\n",
    "In both cases, a dictionary of gauge-optimization \"parameters\" (really just a dictionary of arguments for `pygsti.gaugeopt_to_target`) is required, and one simply needs to set the `targetGateset` argument of `pygsti.gaugeopt_to_target` by specifying `targetGateset` within the parameter dictionary.  We demonstrate this below.\n",
    "\n",
    "First, we'll setup a standard GST analysis as usual except we'll create a `gs_guess` gate set that is meant to be an educated guess at what we expect the estimate to be.  We'll gauge optimize to `gs_guess` instead of the usual `gs_target`:"
   ]
  },
  {
   "cell_type": "code",
   "execution_count": 1,
   "metadata": {
    "collapsed": true,
    "deletable": true,
    "editable": true
   },
   "outputs": [],
   "source": [
    "from __future__ import print_function\n",
    "import pygsti\n",
    "from pygsti.construction import std1Q_XYI"
   ]
  },
  {
   "cell_type": "code",
   "execution_count": 2,
   "metadata": {
    "collapsed": false,
    "deletable": true,
    "editable": true
   },
   "outputs": [],
   "source": [
    "#Generate some fake data (all usual stuff here)\n",
    "gs_target = std1Q_XYI.gs_target.copy()\n",
    "gs_datagen = std1Q_XYI.gs_target.depolarize(gate_noise=0.01, spam_noise=0.001).rotate( (0,0,0.05) )\n",
    "gs_datagen['Gx'].depolarize(0.1) #depolarize Gx even further\n",
    "listOfExperiments = pygsti.construction.make_lsgst_experiment_list(\n",
    "    gs_target, std1Q_XYI.fiducials, std1Q_XYI.fiducials, std1Q_XYI.germs, [1,2,4])\n",
    "ds = pygsti.construction.generate_fake_data(gs_datagen, listOfExperiments, nSamples=1000,\n",
    "                                            sampleError=\"binomial\", seed=1234)\n",
    "gs_target.set_all_parameterizations(\"TP\") #we'll do TP-constrained GST below"
   ]
  },
  {
   "cell_type": "markdown",
   "metadata": {
    "deletable": true,
    "editable": true
   },
   "source": [
    "#### Create a \"guess\" gateset that anticipates a more-depolarized Gx gate"
   ]
  },
  {
   "cell_type": "code",
   "execution_count": 3,
   "metadata": {
    "collapsed": true,
    "deletable": true,
    "editable": true
   },
   "outputs": [],
   "source": [
    "gs_guess = std1Q_XYI.gs_target.copy()\n",
    "gs_guess['Gx'].depolarize(0.1)"
   ]
  },
  {
   "cell_type": "markdown",
   "metadata": {
    "deletable": true,
    "editable": true
   },
   "source": [
    "#### Run GST with and without the guess gate set"
   ]
  },
  {
   "cell_type": "code",
   "execution_count": 4,
   "metadata": {
    "collapsed": false,
    "deletable": true,
    "editable": true
   },
   "outputs": [
    {
     "name": "stdout",
     "output_type": "stream",
     "text": [
      "--- Gate Sequence Creation ---\n",
      "--- LGST ---\n",
      "--- Iterative MLGST: [##################################################] 100.0%  450 gate strings ---\n",
      "Iterative MLGST Total Time: 1.0s\n"
     ]
    }
   ],
   "source": [
    "# GST with standard \"ideal target\" gauge optimization\n",
    "results1 = pygsti.do_long_sequence_gst(\n",
    "    ds, gs_target, std1Q_XYI.fiducials, std1Q_XYI.fiducials, std1Q_XYI.germs, [1,2,4],\n",
    "    gaugeOptParams={'itemWeights': {'gates': 1, 'spam': 1}}, verbosity=1)"
   ]
  },
  {
   "cell_type": "code",
   "execution_count": 5,
   "metadata": {
    "collapsed": false,
    "deletable": true,
    "editable": true
   },
   "outputs": [
    {
     "name": "stdout",
     "output_type": "stream",
     "text": [
      "--- Gate Sequence Creation ---\n",
      "--- LGST ---\n",
      "--- Iterative MLGST: [##################################################] 100.0%  450 gate strings ---\n",
      "Iterative MLGST Total Time: 1.3s\n"
     ]
    }
   ],
   "source": [
    "# GST with our guess as the gauge optimization target (just add \"targetGateset\" to gaugeOptParams)\n",
    "results2 = pygsti.do_long_sequence_gst(\n",
    "    ds, gs_target, std1Q_XYI.fiducials, std1Q_XYI.fiducials, std1Q_XYI.germs, [1,2,4],\n",
    "    gaugeOptParams={'targetGateset': gs_guess, \n",
    "                    'itemWeights': {'gates': 1, 'spam': 1}}, verbosity=1)"
   ]
  },
  {
   "cell_type": "markdown",
   "metadata": {
    "deletable": true,
    "editable": true
   },
   "source": [
    "#### Comparisons\n",
    "After running both the \"ideal-target\" and \"gs_guess-target\" gauge optimizations, we can compare them with the ideal targets and the data-generating gates themselves.  We see that using `gs_guess` results in a similar frobenius distance to the ideal targets, a slightly closer estimate to the data-generating gate set, and reflects our expectation that the `Gx` gate is slightly worse than the other gates."
   ]
  },
  {
   "cell_type": "code",
   "execution_count": 6,
   "metadata": {
    "collapsed": false,
    "deletable": true,
    "editable": true,
    "scrolled": true
   },
   "outputs": [
    {
     "name": "stdout",
     "output_type": "stream",
     "text": [
      "Diff between ideal and ideal-target-gauge-opt =  0.0265847171693\n",
      "Diff between ideal and gs_guess-gauge-opt =  0.0265852063077\n",
      "Diff between data-gen and ideal-target-gauge-opt =  0.0116448286001\n",
      "Diff between data-gen and gs_guess-gauge-opt =  0.0115799478392\n",
      "Diff between ideal-target-GO and gs_guess-GO =  0.000156688505767\n",
      "\n",
      "Per-op difference between ideal and ideal-target-GO\n",
      "Gateset Difference:\n",
      " Preps:\n",
      "  rho0 = 0.0180632\n",
      " POVMs:\n",
      "  Mdefault:     0 = 0.0147348\n",
      "    1 = 0.0147348\n",
      " Gates:\n",
      "  Gi = 0.0797907\n",
      "  Gx = 0.186213\n",
      "  Gy = 0.0245469\n",
      "\n",
      "\n",
      "Per-op difference between ideal and gs_guess-GO\n",
      "Gateset Difference:\n",
      " Preps:\n",
      "  rho0 = 0.0179098\n",
      " POVMs:\n",
      "  Mdefault:     0 = 0.0144141\n",
      "    1 = 0.0144141\n",
      " Gates:\n",
      "  Gi = 0.0797912\n",
      "  Gx = 0.186273\n",
      "  Gy = 0.0246119\n",
      "\n"
     ]
    }
   ],
   "source": [
    "gs1 = results1.estimates['default'].gatesets['go0']\n",
    "gs2 = results2.estimates['default'].gatesets['go0']\n",
    "print(\"Diff between ideal and ideal-target-gauge-opt = \", gs1.frobeniusdist(gs_target))\n",
    "print(\"Diff between ideal and gs_guess-gauge-opt = \", gs2.frobeniusdist(gs_target))\n",
    "print(\"Diff between data-gen and ideal-target-gauge-opt = \", gs1.frobeniusdist(gs_datagen))\n",
    "print(\"Diff between data-gen and gs_guess-gauge-opt = \", gs2.frobeniusdist(gs_datagen))\n",
    "print(\"Diff between ideal-target-GO and gs_guess-GO = \", gs1.frobeniusdist(gs2))\n",
    "\n",
    "print(\"\\nPer-op difference between ideal and ideal-target-GO\")\n",
    "print(gs1.strdiff(gs_target))\n",
    "\n",
    "print(\"\\nPer-op difference between ideal and gs_guess-GO\")\n",
    "print(gs2.strdiff(gs_target))"
   ]
  },
  {
   "cell_type": "markdown",
   "metadata": {
    "deletable": true,
    "editable": true
   },
   "source": [
    "#### Adding a gauge optimization to existing `Results`\n",
    "We can also include our `gs_guess` as the `targetGateset` when adding a new gauge-optimized result.  See other examples for more info on using `add_gaugeoptimized`."
   ]
  },
  {
   "cell_type": "code",
   "execution_count": 7,
   "metadata": {
    "collapsed": false,
    "deletable": true,
    "editable": true
   },
   "outputs": [],
   "source": [
    "results1.estimates['default'].add_gaugeoptimized( {'targetGateset': gs_guess, \n",
    "                                                   'itemWeights': {'gates': 1, 'spam': 1}},\n",
    "                                                label=\"using gs_guess\")"
   ]
  },
  {
   "cell_type": "code",
   "execution_count": 8,
   "metadata": {
    "collapsed": false,
    "deletable": true,
    "editable": true
   },
   "outputs": [
    {
     "name": "stdout",
     "output_type": "stream",
     "text": [
      "7.77040829608e-15\n"
     ]
    }
   ],
   "source": [
    "gs1b = results1.estimates['default'].gatesets['using gs_guess']\n",
    "print(gs1b.frobeniusdist(gs2)) # gs1b is the same as gs2"
   ]
  }
 ],
 "metadata": {
  "kernelspec": {
   "display_name": "Python 3",
   "language": "python",
   "name": "python3"
  },
  "language_info": {
   "codemirror_mode": {
    "name": "ipython",
    "version": 3
   },
   "file_extension": ".py",
   "mimetype": "text/x-python",
   "name": "python",
   "nbconvert_exporter": "python",
   "pygments_lexer": "ipython3",
   "version": "3.5.2"
  }
 },
 "nbformat": 4,
 "nbformat_minor": 2
}
