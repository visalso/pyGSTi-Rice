{
 "cells": [
  {
   "cell_type": "markdown",
   "metadata": {
    "deletable": true,
    "editable": true
   },
   "source": [
    "# Getting started with pyGSTi and Gate Set Tomography"
   ]
  },
  {
   "cell_type": "markdown",
   "metadata": {
    "deletable": true,
    "editable": true
   },
   "source": [
    "The `pygsti` package provides multiple levels of abstraction over the core Gate Set Tomography (GST) algorithms.  This initial tutorial will show you how to run Gate Set Tomography on some simulated (generated) data, hopefully giving you an overall sense of what it takes (and how easy it is!) to run GST.  Subsequent tutorials will delve into the details of `pygsti` objects and algorithms, and how to use them in detail.\n",
    "\n",
    "To run GST, we need three inputs:\n",
    "1. a \"**target gate set**\" which describes the desired, or ideal, operations we want our experimental hardware to perform.  In the example below, we use one of pyGSTi's \"standard\" gate sets - the on acting on a single qubit with the following operations:\n",
    "    - three gates: the identity, and $\\pi/2$ rotations around the $x$- and $y$-axes.\n",
    "    - a single state preparation in the $|0\\rangle$ state.\n",
    "    - a 2-outcome measurement with the label \"0\" associated with measuring $|0\\rangle$ and \"1\" with measuring $|1\\rangle$.\n",
    "    \n",
    "2. a list of GST sequences corresponding to the target gate set; essentially a list of what experiments (= gate sequences) we need to run.  Using a standard gate set makes things especially straightforward here, since the building blocks, called *germ* and *fiducial* sequences needed to make good GST sequences have already been computed.\n",
    "\n",
    "3. data, in the form of experimental outcome counts, for each of the required sequences.  In this example we'll generate \"fake\" or \"simulated\" data from a depolarized version of our ideal gate set.\n"
   ]
  },
  {
   "cell_type": "code",
   "execution_count": 1,
   "metadata": {
    "collapsed": false,
    "deletable": true,
    "editable": true
   },
   "outputs": [],
   "source": [
    "#Make print statements compatible with Python 2 and 3\n",
    "from __future__ import print_function\n",
    "\n",
    "#Import the pygsti module (always do this) and the standard XYI gate set\n",
    "import pygsti\n",
    "from pygsti.construction import std1Q_XYI\n",
    "\n",
    "# 1) get the target GateSet\n",
    "gs_target = std1Q_XYI.gs_target\n",
    "\n",
    "# 2) get the building blocks needed to specify which gate sequences are needed\n",
    "prep_fiducials, meas_fiducials = std1Q_XYI.prepStrs, std1Q_XYI.effectStrs\n",
    "germs = std1Q_XYI.germs\n",
    "maxLengths = [1,2,4,8,16,32] # roughly gives the length of the sequences used by GST\n",
    "\n",
    "# 3) generate \"fake\" data from a depolarized version of gs_target\n",
    "gs_datagen = gs_target.depolarize(gate_noise=0.1, spam_noise=0.001)\n",
    "listOfExperiments = pygsti.construction.make_lsgst_experiment_list(\n",
    "    gs_target, prep_fiducials, meas_fiducials, germs, maxLengths)\n",
    "ds = pygsti.construction.generate_fake_data(gs_datagen, listOfExperiments, nSamples=1000,\n",
    "                                            sampleError=\"binomial\", seed=1234)\n",
    "\n",
    "#Note: from listOfExperiments we can also create an empty dataset file\n",
    "# which has columns of zeros where actual data should go. \n",
    "pygsti.io.write_empty_dataset(\"tutorial_files/GettingStartedDataTemplate.txt\", listOfExperiments,\n",
    "                              \"## Columns = 1 count, count total\")\n",
    "# After replacing the zeros with actual data, the data set can be \n",
    "# loaded back into pyGSTi using the line below and used in the rest\n",
    "# of this tutorial. \n",
    "#ds = pygsti.io.load_dataset(\"tutorial_files/GettingStartedDataTemplate.txt\")\n"
   ]
  },
  {
   "cell_type": "markdown",
   "metadata": {
    "collapsed": false,
    "deletable": true,
    "editable": true
   },
   "source": [
    "Now that we have all of the inputs, we can run GST in a standard way using the `do_stdpractice_gst` high-level driver function.  This returns a `pygsti.report.Results` object, from which we can generate a report giving us a summary of the analysis.   "
   ]
  },
  {
   "cell_type": "code",
   "execution_count": 2,
   "metadata": {
    "collapsed": false,
    "deletable": true,
    "editable": true
   },
   "outputs": [
    {
     "name": "stdout",
     "output_type": "stream",
     "text": [
      "-- Std Practice:  Iter 1 of 3  (TP) --: \n",
      "  --- Gate Sequence Creation ---\n",
      "  --- LGST ---\n",
      "  --- Iterative MLGST: [##################################################] 100.0%  1702 gate strings ---\n",
      "  Iterative MLGST Total Time: 4.7s\n",
      "  --- Re-optimizing logl after robust data scaling ---\n",
      "  -- Performing 'single' gauge optimization on TP estimate --\n",
      "  -- Performing 'single' gauge optimization on TP.Robust+ estimate --\n",
      "-- Std Practice:  Iter 2 of 3  (CPTP) --: \n",
      "  --- Gate Sequence Creation ---\n",
      "  --- Iterative MLGST: [##################################################] 100.0%  1702 gate strings ---\n",
      "  Iterative MLGST Total Time: 5.8s\n",
      "  --- Re-optimizing logl after robust data scaling ---\n",
      "  -- Performing 'single' gauge optimization on CPTP estimate --\n",
      "  -- Performing 'single' gauge optimization on CPTP.Robust+ estimate --\n",
      "-- Std Practice:  Iter 3 of 3  (Target) --: \n",
      "  --- Gate Sequence Creation ---\n",
      "  -- Performing 'single' gauge optimization on Target estimate --\n",
      "*** Creating workspace ***\n",
      "*** Generating switchboard ***\n",
      "Found standard clifford compilation from std1Q_XYI\n",
      "Found standard clifford compilation from std1Q_XYI\n",
      "Found standard clifford compilation from std1Q_XYI\n",
      "*** Generating tables ***\n",
      "  targetSpamBriefTable                          took 0.02026 seconds\n",
      "  targetGatesBoxTable                           took 0.057676 seconds\n",
      "  datasetOverviewTable                          took 0.037352 seconds\n",
      "  bestGatesetSpamParametersTable                took 0.001183 seconds\n",
      "  bestGatesetSpamBriefTable                     took 0.089025 seconds\n",
      "  bestGatesetSpamVsTargetTable                  took 0.105146 seconds\n",
      "  bestGatesetGaugeOptParamsTable                took 0.000824 seconds\n",
      "  bestGatesetGatesBoxTable                      took 0.053059 seconds\n",
      "  bestGatesetChoiEvalTable                      took 0.0876 seconds\n",
      "  bestGatesetDecompTable                        took 0.075253 seconds\n",
      "  bestGatesetEvalTable                          took 0.005412 seconds\n",
      "  bestGermsEvalTable                            took 0.027335 seconds\n",
      "  bestGatesetVsTargetTable                      took 0.602239 seconds\n",
      "  bestGatesVsTargetTable_gv                     took 0.229307 seconds\n",
      "  bestGatesVsTargetTable_gvgerms                took 0.071733 seconds\n",
      "  bestGatesVsTargetTable_gi                     took 0.01808 seconds\n",
      "  bestGatesVsTargetTable_gigerms                took 0.038717 seconds\n",
      "  bestGatesVsTargetTable_sum                    took 0.226988 seconds\n",
      "  bestGatesetErrGenBoxTable                     took 0.247747 seconds\n",
      "  metadataTable                                 took 0.047062 seconds\n",
      "  stdoutBlock                                   took 0.000226 seconds\n",
      "  profilerTable                                 took 0.001243 seconds\n",
      "  softwareEnvTable                              took 0.023643 seconds\n",
      "  exampleTable                                  took 0.005826 seconds\n",
      "  singleMetricTable_gv                          took 0.234701 seconds\n",
      "  singleMetricTable_gi                          took 0.019342 seconds\n",
      "  fiducialListTable                             took 0.000505 seconds\n",
      "  prepStrListTable                              took 0.000157 seconds\n",
      "  effectStrListTable                            took 0.000161 seconds\n",
      "  colorBoxPlotKeyPlot                           took 0.008115 seconds\n",
      "  germList2ColTable                             took 0.000238 seconds\n",
      "  progressTable                                 took 4.265845 seconds\n",
      "*** Generating plots ***\n",
      "  gramBarPlot                                   took 0.055852 seconds\n",
      "  progressBarPlot                               took 0.575844 seconds\n",
      "  progressBarPlot_sum                           took 0.000785 seconds\n",
      "  finalFitComparePlot                           took 0.133021 seconds\n",
      "  bestEstimateColorBoxPlot                      took 25.453369 seconds\n",
      "  bestEstimateTVDColorBoxPlot                   took 24.237853 seconds\n",
      "  bestEstimateColorScatterPlot                  took 29.274616 seconds\n",
      "  bestEstimateColorHistogram                    took 26.223024 seconds\n",
      "  progressTable_scl                             took 4.729965 seconds\n",
      "  progressBarPlot_scl                           took 0.374432 seconds\n",
      "  bestEstimateColorBoxPlot_scl                  took 17.707579 seconds\n",
      "  bestEstimateColorScatterPlot_scl              took 19.994992 seconds\n",
      "  bestEstimateColorHistogram_scl                took 16.859523 seconds\n",
      "  dataScalingColorBoxPlot                       took 0.114607 seconds\n",
      "*** Merging into template file ***\n",
      "  Rendering bestEstimateColorBoxPlot_scl        took 0.071652 seconds\n",
      "  Rendering bestGatesVsTargetTable_gvgerms      took 0.009571 seconds\n",
      "  Rendering effectStrListTable                  took 0.001315 seconds\n",
      "  Rendering bestGatesetErrGenBoxTable           took 0.120453 seconds\n",
      "  Rendering targetGatesBoxTable                 took 0.037822 seconds\n",
      "  Rendering bestEstimateColorHistogram          took 0.067116 seconds\n",
      "  Rendering germList2ColTable                   took 0.002709 seconds\n",
      "  Rendering targetSpamBriefTable                took 0.04153 seconds\n",
      "  Rendering bestGatesetGatesBoxTable            took 0.058391 seconds\n",
      "  Rendering metricSwitchboard_gi                took 6.8e-05 seconds\n",
      "  Rendering dataScalingColorBoxPlot             took 0.018905 seconds\n",
      "  Rendering bestGatesetChoiEvalTable            took 0.039183 seconds\n",
      "  Rendering bestGatesetSpamVsTargetTable        took 0.00543 seconds\n",
      "  Rendering bestGermsEvalTable                  took 0.182853 seconds\n",
      "  Rendering fiducialListTable                   took 0.001904 seconds\n",
      "  Rendering finalFitComparePlot                 took 0.002135 seconds\n",
      "  Rendering metricSwitchboard_gv                took 6.5e-05 seconds\n",
      "  Rendering colorBoxPlotKeyPlot                 took 0.005913 seconds\n",
      "  Rendering bestGatesetDecompTable              took 0.038846 seconds\n",
      "  Rendering datasetOverviewTable                took 0.00055 seconds\n",
      "  Rendering bestEstimateColorScatterPlot_scl    took 0.056361 seconds\n",
      "  Rendering bestGatesetGaugeOptParamsTable      took 0.001974 seconds\n",
      "  Rendering exampleTable                        took 0.005535 seconds\n",
      "  Rendering profilerTable                       took 0.003211 seconds\n",
      "  Rendering bestGatesVsTargetTable_gv           took 0.006624 seconds\n",
      "  Rendering bestGatesetVsTargetTable            took 0.001686 seconds\n",
      "  Rendering bestEstimateColorBoxPlot            took 0.106931 seconds\n",
      "  Rendering stdoutBlock                         took 0.001112 seconds\n",
      "  Rendering progressBarPlot_scl                 took 0.003639 seconds\n",
      "  Rendering bestGatesetSpamParametersTable      took 0.003383 seconds\n",
      "  Rendering bestEstimateColorScatterPlot        took 0.08315 seconds\n",
      "  Rendering bestGatesVsTargetTable_sum          took 0.005182 seconds\n",
      "  Rendering bestGatesVsTargetTable_gi           took 0.006115 seconds\n",
      "  Rendering metadataTable                       took 0.006997 seconds\n",
      "  Rendering softwareEnvTable                    took 0.002127 seconds\n",
      "  Rendering maxLSwitchboard1                    took 0.000139 seconds\n",
      "  Rendering progressBarPlot                     took 0.00494 seconds\n",
      "  Rendering progressTable_scl                   took 0.008786 seconds\n",
      "  Rendering progressTable                       took 0.013257 seconds\n",
      "  Rendering topSwitchboard                      took 0.000119 seconds\n",
      "  Rendering progressBarPlot_sum                 took 0.005023 seconds\n",
      "  Rendering bestGatesetEvalTable                took 0.048147 seconds\n",
      "  Rendering bestEstimateTVDColorBoxPlot         took 0.107191 seconds\n",
      "  Rendering bestGatesVsTargetTable_gigerms      took 0.006963 seconds\n",
      "  Rendering bestEstimateColorHistogram_scl      took 0.048448 seconds\n",
      "  Rendering prepStrListTable                    took 0.001534 seconds\n",
      "  Rendering bestGatesetSpamBriefTable           took 0.061705 seconds\n",
      "  Rendering singleMetricTable_gv                took 0.006915 seconds\n",
      "  Rendering gramBarPlot                         took 0.004892 seconds\n",
      "  Rendering singleMetricTable_gi                took 0.006333 seconds\n",
      "Output written to tutorial_files/gettingStartedReport directory\n",
      "*** Report Generation Complete!  Total time 173.982s ***\n"
     ]
    },
    {
     "data": {
      "text/plain": [
       "<pygsti.report.workspace.Workspace at 0x106c1c518>"
      ]
     },
     "execution_count": 2,
     "metadata": {},
     "output_type": "execute_result"
    }
   ],
   "source": [
    "#Run GST and create a report\n",
    "results = pygsti.do_stdpractice_gst(ds, gs_target, prep_fiducials, meas_fiducials, germs, maxLengths)\n",
    "pygsti.report.create_standard_report(results, filename=\"tutorial_files/gettingStartedReport\",\n",
    "                                    title=\"Tutorial0 Example Report\", verbosity=2)"
   ]
  },
  {
   "cell_type": "markdown",
   "metadata": {
    "collapsed": false,
    "deletable": true,
    "editable": true
   },
   "source": [
    "You can now open the file [tutorial_files/gettingStartedReport/main.html](tutorial_files/gettingStartedReport/main.html) in your browser to view the report.  **That's it!  You've just run GST!**\n",
    "\n",
    "The other tutorials in this directory will explain how to use the various objects and algorithms that comprise pyGSTi. These **tutorial notebooks are meant to be fairly pedagogical** and include details about the inner workings of and design choices within pyGSTi.  In contrast, the **\"FAQ\" directory contains notebooks with attempt to address specific questions as quickly and directly as possible, with little or no explanation of related topics or broader context**. "
   ]
  },
  {
   "cell_type": "code",
   "execution_count": null,
   "metadata": {
    "collapsed": true,
    "deletable": true,
    "editable": true
   },
   "outputs": [],
   "source": []
  }
 ],
 "metadata": {
  "kernelspec": {
   "display_name": "Python 3",
   "language": "python",
   "name": "python3"
  },
  "language_info": {
   "codemirror_mode": {
    "name": "ipython",
    "version": 3
   },
   "file_extension": ".py",
   "mimetype": "text/x-python",
   "name": "python",
   "nbconvert_exporter": "python",
   "pygments_lexer": "ipython3",
   "version": "3.5.2"
  }
 },
 "nbformat": 4,
 "nbformat_minor": 0
}
